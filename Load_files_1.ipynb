{
 "cells": [
  {
   "cell_type": "code",
   "execution_count": 65,
   "metadata": {},
   "outputs": [],
   "source": [
    "\"\"\"\n",
    "Generating data\n",
    "\n",
    "\"\"\"\n",
    "\n",
    "import numpy as np\n",
    "import scipy as sp\n",
    "import pandas as pd\n",
    "import matplotlib.pyplot as plt\n",
    "import copy\n",
    "import time\n",
    "from npl import bootstrap_logreg as bbl\n",
    "import pickle\n",
    "\n",
    "import seaborn as sns\n",
    "import importlib\n",
    "from npl.evaluate import logreg_ll as lrl\n",
    "\n",
    "\n",
    "\n",
    "n_iter=5\n",
    "\n",
    "def gen_toy(N_data, beta, intercept=2, seed=100):\n",
    "    #def run_HDP_NPL(datasets, method, alpha, beta, params):\n",
    "    #run_HDP_NPL([d1, d2, d3], method=‘RandomForest’, alpha=0.1, gamma=2., params={num_trees: 3, tree_depth: 5})\n",
    "    #run_HDP_NPL([d1, d2, d3,d4], method=‘LogisticRegression’, alpha=0.1, gamma=2., params={regularizer:None})\n",
    "    \n",
    "    np.random.seed(seed)\n",
    "    \n",
    "    K_set=len(N_data)\n",
    "    X=[]\n",
    "    \n",
    "    for ss in range(K_set):\n",
    "        X.append(np.random.multivariate_normal(beta[ss], [[1,0],[0,1]], N_data[ss]))\n",
    "    \n",
    "    Linear_part=[]\n",
    "    eta=[]\n",
    "    y=[]\n",
    "    \n",
    "    for i in range(K_set):\n",
    "        Linear_part.append(X[i]@beta[i]+intercept*np.ones(N_data[i]))\n",
    "        eta.append(1/(1 + np.exp(-Linear_part[i])))\n",
    "        y.append(np.random.binomial(1,eta[i]))\n",
    "    \n",
    "    gamma=[1/b for b in N_data ]\n",
    "    \n",
    "    return X, y, gamma\n",
    "\n",
    "\n",
    "def gen_test_toy(N_test_data, beta, intercept=2, seed=100):\n",
    "    #def run_HDP_NPL(datasets, method, alpha, beta, params):\n",
    "    #run_HDP_NPL([d1, d2, d3], method=‘RandomForest’, alpha=0.1, gamma=2., params={num_trees: 3, tree_depth: 5})\n",
    "    #run_HDP_NPL([d1, d2, d3,d4], method=‘LogisticRegression’, alpha=0.1, gamma=2., params={regularizer:None})\n",
    "    \n",
    "    np.random.seed(seed+10101)\n",
    "    \n",
    "    K_set=len(N_test_data)\n",
    "    \n",
    "    X=[]\n",
    "    \n",
    "    for i in range(K_set):\n",
    "        X.append(np.random.multivariate_normal(beta[i], [[1,0],[0,1]], N_test_data[i]))\n",
    "        \n",
    "    Linear_part=[]\n",
    "    eta=[]\n",
    "    y=[]\n",
    "    \n",
    "    for i in range(K_set):\n",
    "        Linear_part.append(X[i]@beta[i]+intercept*np.ones(N_test_data[i]))\n",
    "        eta.append(1/(1 + np.exp(-Linear_part[i])))\n",
    "        y.append(np.random.binomial(1,eta[i]))\n",
    "    \n",
    "    gamma=[1/b for b in N_test_data ]\n",
    "    \n",
    "    return X, y, gamma\n",
    "\n",
    "\n",
    "\n",
    "    "
   ]
  },
  {
   "cell_type": "code",
   "execution_count": 47,
   "metadata": {},
   "outputs": [
    {
     "name": "stderr",
     "output_type": "stream",
     "text": [
      "100%|██████████| 1000/1000 [00:00<00:00, 2325.73it/s]\n",
      "100%|██████████| 1000/1000 [00:00<00:00, 2333.42it/s]\n",
      "100%|██████████| 1000/1000 [00:00<00:00, 2598.57it/s]\n",
      "  0%|          | 0/1000 [00:00<?, ?it/s]"
     ]
    },
    {
     "name": "stdout",
     "output_type": "stream",
     "text": [
      "Time elapsed = 2.378098964691162\n",
      "2.378098964691162\n"
     ]
    },
    {
     "name": "stderr",
     "output_type": "stream",
     "text": [
      "100%|██████████| 1000/1000 [00:00<00:00, 1802.53it/s]\n",
      "100%|██████████| 1000/1000 [00:00<00:00, 2563.79it/s]\n",
      "100%|██████████| 1000/1000 [00:00<00:00, 1393.62it/s]\n",
      "  0%|          | 0/1000 [00:00<?, ?it/s]"
     ]
    },
    {
     "name": "stdout",
     "output_type": "stream",
     "text": [
      "Time elapsed = 2.659559965133667\n",
      "2.659559965133667\n"
     ]
    },
    {
     "name": "stderr",
     "output_type": "stream",
     "text": [
      "100%|██████████| 1000/1000 [00:00<00:00, 2353.89it/s]\n",
      "100%|██████████| 1000/1000 [00:00<00:00, 2165.70it/s]\n",
      "100%|██████████| 1000/1000 [00:00<00:00, 2474.09it/s]\n",
      "  0%|          | 0/1000 [00:00<?, ?it/s]"
     ]
    },
    {
     "name": "stdout",
     "output_type": "stream",
     "text": [
      "Time elapsed = 2.40000581741333\n",
      "2.40000581741333\n"
     ]
    },
    {
     "name": "stderr",
     "output_type": "stream",
     "text": [
      "100%|██████████| 1000/1000 [00:00<00:00, 2103.01it/s]\n",
      "100%|██████████| 1000/1000 [00:00<00:00, 1302.16it/s]\n",
      "100%|██████████| 1000/1000 [00:00<00:00, 2214.80it/s]\n",
      "  0%|          | 0/1000 [00:00<?, ?it/s]"
     ]
    },
    {
     "name": "stdout",
     "output_type": "stream",
     "text": [
      "Time elapsed = 2.645625114440918\n",
      "2.645625114440918\n"
     ]
    },
    {
     "name": "stderr",
     "output_type": "stream",
     "text": [
      "100%|██████████| 1000/1000 [00:00<00:00, 1747.85it/s]\n",
      "100%|██████████| 1000/1000 [00:00<00:00, 2345.60it/s]\n",
      "100%|██████████| 1000/1000 [00:00<00:00, 2524.31it/s]\n"
     ]
    },
    {
     "name": "stdout",
     "output_type": "stream",
     "text": [
      "Time elapsed = 2.3597629070281982\n",
      "2.3597629070281982\n"
     ]
    }
   ],
   "source": [
    "def main(beta, intercept, B_postsamples):\n",
    "    \n",
    "\n",
    "    T_trunc = 100\n",
    "    a=1\n",
    "    b = 1 #rate of gamma hyperprior\n",
    "    \n",
    "    alph_conc=0 # D ~ DP(alpha_conc, H)\n",
    "    alpha_top_layer=0 # Dk ~ DP(alpha_top_layer, D)\n",
    "    N_data=[1000,2000,5000]\n",
    "    D_data=len(beta[0])\n",
    "    \n",
    "    K_set=len(beta)\n",
    "    \n",
    "    \n",
    "    for i in range(n_iter):\n",
    "\n",
    "        seed = 100+i\n",
    "        \n",
    "        np.random.seed(seed)\n",
    "        x, y, gamma = gen_toy(N_data, beta, intercept, seed)\n",
    "        \n",
    "        #y,x,alph_conc,gamma,N_data,D_data = load_data(dataset,seed)\n",
    "\n",
    "        start= time.time()\n",
    "        #carry out posterior bootstrap\n",
    "        temp = bbl.bootstrap_logreg(B_postsamples,alph_conc,alpha_top_layer,T_trunc,y,x,N_data,D_data,a,b,gamma)\n",
    "        end = time.time()\n",
    "        print ('Time elapsed = {}'.format(end - start))\n",
    "        \n",
    "        \n",
    "        \n",
    "        beta_bb=[]\n",
    "        ll_bb=[]\n",
    "        \n",
    "        for j in range(K_set):\n",
    "            beta_b=np.zeros((B_postsamples,K_set))\n",
    "            ll_b=[]\n",
    "            for bb in range(B_postsamples):\n",
    "                beta_b[bb]=temp[j][bb][0]\n",
    "                ll_b.append(temp[j][bb][1])\n",
    "            beta_bb.append(beta_b)\n",
    "            ll_bb.append(ll_b)\n",
    "        \n",
    "        \n",
    "\n",
    "        #convert to dataframe and save\n",
    "        dict_bb = {'beta': beta_bb, 'll': ll_bb, 'time': end-start}\n",
    "        par_bb = pd.Series(data = dict_bb)\n",
    "        print(par_bb['time'])\n",
    "        \n",
    "        par_bb.to_pickle('./parameters/par_bb_logreg_c{}_a{}_b{}_gN_pol_B{}_seed{}'.format(alph_conc,a,b,B_postsamples,seed))\n",
    "\n",
    "\n",
    "if __name__=='__main__':\n",
    "    main([np.array([-1,1]),np.array([-1,1]),np.array([-1,1])],2,1000)\n",
    "    #main([np.array([1,5]),np.array([-1,7]),np.array([9,-1])],2,1000)\n",
    "    \n",
    "    \n",
    "    \n",
    "    \n",
    "    \n",
    "    "
   ]
  },
  {
   "cell_type": "code",
   "execution_count": 48,
   "metadata": {},
   "outputs": [],
   "source": [
    "X_test, y_test, _=gen_test_toy([1000,1000,1000], [np.array([0,0]),np.array([-1,1]),np.array([1,-1])],2,12121)"
   ]
  },
  {
   "cell_type": "code",
   "execution_count": 49,
   "metadata": {},
   "outputs": [
    {
     "name": "stdout",
     "output_type": "stream",
     "text": [
      "FOR DATASET\n",
      "0\n",
      "lppd\n",
      "-0.6650895454915307\n",
      "0.05650164092482095\n",
      "mse\n",
      "0.20263469009101268\n",
      "0.022958976026457675\n",
      "pa\n",
      "70.82\n",
      "4.401545183228272\n",
      "time\n",
      "2.488610553741455\n",
      "0.13456790122813886\n",
      "\n",
      "\n",
      "\n",
      "\n",
      "FOR DATASET\n",
      "1\n",
      "lppd\n",
      "-0.1485502598790991\n",
      "0.020350175600648553\n",
      "mse\n",
      "0.035604677996240695\n",
      "0.0024457002705552\n",
      "pa\n",
      "95.94\n",
      "0.372021504754769\n",
      "time\n",
      "2.488610553741455\n",
      "0.13456790122813886\n",
      "\n",
      "\n",
      "\n",
      "\n",
      "FOR DATASET\n",
      "2\n",
      "lppd\n",
      "-1.0593411217930504\n",
      "0.12572986695639354\n",
      "mse\n",
      "0.3731766824974453\n",
      "0.040789420825215174\n",
      "pa\n",
      "41.64\n",
      "5.590921212108075\n",
      "time\n",
      "2.488610553741455\n",
      "0.13456790122813886\n",
      "\n",
      "\n",
      "\n",
      "\n"
     ]
    }
   ],
   "source": [
    "def eval(x_test, y_test, N_test):\n",
    "    #par=dataset\n",
    "    #Load test data\n",
    "    K_set=len(y_test)\n",
    "    \n",
    "    \n",
    "    lppd = np.zeros([n_iter,K_set])\n",
    "    mse = np.zeros([n_iter,K_set])\n",
    "    predcor = np.zeros([n_iter,K_set])\n",
    "    time = np.zeros([n_iter,K_set])\n",
    "    card = np.zeros([n_iter,K_set])\n",
    "    \n",
    "    \n",
    "    D,c,eps = 2, 0, 1e-1\n",
    "    \n",
    "    \n",
    "    \n",
    "\n",
    "    for i in range(n_iter):\n",
    "        par = pd.read_pickle('./parameters/par_bb_logreg_c{}_a{}_b{}_gN_pol_B1000_seed{}'.format(0,1,1,100+i))\n",
    "        #Run through each seed to calculate predictive performance/times\n",
    "        #seed = 100+i\n",
    "        #y_test,x_test,N_test,D,c,pref,eps = load_data(dataset,seed)\n",
    "        BETA=[]\n",
    "        ALPHA=[]\n",
    "        time[i]=par['time']\n",
    "        for j in range(K_set):\n",
    "            BETA.append( par['beta'][j][:,0:2])\n",
    "            ALPHA.append(par['beta'][j][:,2])\n",
    "            \n",
    "            lppd[i,j]=lrl.lppd(y_test[j],x_test[j],BETA[j],ALPHA[j])\n",
    "            mse[i,j]=lrl.MSE(y_test[j],x_test[j],BETA[j],ALPHA[j])\n",
    "            predcor[i,j]= lrl.predcorrect(y_test[j],x_test[j],BETA[j],ALPHA[j])\n",
    "            mean_beta = np.mean(BETA[j],axis = 0)\n",
    "            card[i,j] = lrl.checkcard([mean_beta],eps)\n",
    "        \n",
    "        \n",
    "    #dict = {'lppd_1':lppd[0]/N_test[0], 'mse_1':mse[0], 'predcor_1': 100*predcor[0], 'card_1': ((D-card[0])/D)*100, 'time':time }\n",
    "\n",
    "    for j in range(K_set):\n",
    "        print('FOR DATASET')\n",
    "        print(j)\n",
    "        \n",
    "        print('lppd')\n",
    "        print(np.mean(lppd[:,j]/N_test[j]))\n",
    "        print(np.std(lppd[:,j]/N_test[j]))\n",
    "        \n",
    "        #import pdb\n",
    "        #pdb.set_trace()\n",
    "\n",
    "        print('mse')\n",
    "        print(np.mean(mse[:,j]))\n",
    "        print(np.std(mse[:,j]))\n",
    "\n",
    "        print('pa')\n",
    "        print(np.mean(100*predcor[:,j]))\n",
    "        print(np.std(100*predcor[:,j]))\n",
    "\n",
    "    \n",
    "        print('time')\n",
    "        print(np.mean(time))\n",
    "        print(np.std(time))\n",
    "        \n",
    "        print(\"\\n\")\n",
    "        print(\"\\n\")\n",
    "        \n",
    "        \n",
    "\n",
    "\n",
    "#Run for 3 datasets from paper\n",
    "def main():\n",
    "    eval(X_test,y_test,[1000,1000,1000])\n",
    "\n",
    "if __name__=='__main__':\n",
    "    main()"
   ]
  },
  {
   "cell_type": "code",
   "execution_count": 50,
   "metadata": {},
   "outputs": [],
   "source": [
    "par = pd.read_pickle('./parameters/par_bb_logreg_c{}_a{}_b{}_gN_pol_B1000_seed{}'.format(0,1,1,100))"
   ]
  },
  {
   "cell_type": "code",
   "execution_count": 51,
   "metadata": {},
   "outputs": [],
   "source": [
    "beta_2=par[\"beta\"]"
   ]
  },
  {
   "cell_type": "code",
   "execution_count": 62,
   "metadata": {},
   "outputs": [
    {
     "data": {
      "text/plain": [
       "array([-1.0636803 ,  0.984319  ,  1.91759226])"
      ]
     },
     "execution_count": 62,
     "metadata": {},
     "output_type": "execute_result"
    }
   ],
   "source": [
    "np.mean(beta_2[2],axis=0)"
   ]
  },
  {
   "cell_type": "code",
   "execution_count": 63,
   "metadata": {},
   "outputs": [
    {
     "data": {
      "image/png": "[encoded data removed]",
      "text/plain": [
       "<Figure size 432x288 with 1 Axes>"
      ]
     },
     "metadata": {
      "needs_background": "light"
     },
     "output_type": "display_data"
    }
   ],
   "source": [
    "plt.hist(beta_2[2][:,0:2].flatten())\n",
    "plt.show()"
   ]
  },
  {
   "cell_type": "code",
   "execution_count": 34,
   "metadata": {},
   "outputs": [],
   "source": [
    "import sklearn\n",
    "from sklearn.linear_model import LogisticRegression"
   ]
  },
  {
   "cell_type": "code",
   "execution_count": 66,
   "metadata": {},
   "outputs": [],
   "source": [
    "\n",
    "N_data=[100,200,500]\n",
    "X, y, gamma,eta = gen_toy(N_data, [np.array([-1,1]),np.array([-1,1]),np.array([-1,1])],2, 100)"
   ]
  },
  {
   "cell_type": "code",
   "execution_count": 72,
   "metadata": {},
   "outputs": [
    {
     "data": {
      "text/plain": [
       "[97, 195, 476]"
      ]
     },
     "execution_count": 72,
     "metadata": {},
     "output_type": "execute_result"
    }
   ],
   "source": [
    "[np.sum(yy) for yy in y]"
   ]
  },
  {
   "cell_type": "code",
   "execution_count": 73,
   "metadata": {},
   "outputs": [
    {
     "data": {
      "image/png": "[encoded data removed]",
      "text/plain": [
       "<Figure size 432x288 with 1 Axes>"
      ]
     },
     "metadata": {
      "needs_background": "light"
     },
     "output_type": "display_data"
    }
   ],
   "source": [
    "plt.hist(eta)\n",
    "plt.show()"
   ]
  },
  {
   "cell_type": "code",
   "execution_count": 38,
   "metadata": {},
   "outputs": [
    {
     "data": {
      "text/plain": [
       "array([2.74043387])"
      ]
     },
     "execution_count": 38,
     "metadata": {},
     "output_type": "execute_result"
    }
   ],
   "source": [
    "clf = LogisticRegression(random_state=0).fit(X[1], y[1])\n",
    "clf.intercept_"
   ]
  },
  {
   "cell_type": "code",
   "execution_count": 39,
   "metadata": {},
   "outputs": [
    {
     "data": {
      "text/plain": [
       "array([[-1.36914489,  1.09171756]])"
      ]
     },
     "execution_count": 39,
     "metadata": {},
     "output_type": "execute_result"
    }
   ],
   "source": [
    "clf.coef_"
   ]
  },
  {
   "cell_type": "code",
   "execution_count": null,
   "metadata": {},
   "outputs": [],
   "source": [
    "model=sklearn.linear_model.LogisticRegression(penalty='l2', *, dual=False, tol=0.0001, C=1.0, fit_intercept=True, intercept_scaling=1, class_weight=None, random_state=None, solver='lbfgs', max_iter=100, multi_class='auto', verbose=0, warm_start=False, n_jobs=None, l1_ratio=None)[source]\n",
    "\n",
    "\n",
    "\n"
   ]
  },
  {
   "cell_type": "code",
   "execution_count": null,
   "metadata": {},
   "outputs": [],
   "source": []
  },
  {
   "cell_type": "code",
   "execution_count": 15,
   "metadata": {},
   "outputs": [
    {
     "name": "stderr",
     "output_type": "stream",
     "text": [
      "/Users/cuifuheng/opt/anaconda3/lib/python3.7/site-packages/pandas/core/ops/array_ops.py:253: FutureWarning: elementwise comparison failed; returning scalar instead, but in the future will perform elementwise comparison\n",
      "  res_values = method(rvalues)\n",
      "/Users/cuifuheng/opt/anaconda3/lib/python3.7/site-packages/pandas/core/ops/array_ops.py:253: FutureWarning: elementwise comparison failed; returning scalar instead, but in the future will perform elementwise comparison\n",
      "  res_values = method(rvalues)\n",
      "/Users/cuifuheng/opt/anaconda3/lib/python3.7/site-packages/pandas/core/ops/array_ops.py:253: FutureWarning: elementwise comparison failed; returning scalar instead, but in the future will perform elementwise comparison\n",
      "  res_values = method(rvalues)\n",
      "/Users/cuifuheng/opt/anaconda3/lib/python3.7/site-packages/pandas/core/ops/array_ops.py:253: FutureWarning: elementwise comparison failed; returning scalar instead, but in the future will perform elementwise comparison\n",
      "  res_values = method(rvalues)\n",
      "/Users/cuifuheng/opt/anaconda3/lib/python3.7/site-packages/pandas/core/ops/array_ops.py:253: FutureWarning: elementwise comparison failed; returning scalar instead, but in the future will perform elementwise comparison\n",
      "  res_values = method(rvalues)\n",
      "/Users/cuifuheng/opt/anaconda3/lib/python3.7/site-packages/pandas/core/ops/array_ops.py:253: FutureWarning: elementwise comparison failed; returning scalar instead, but in the future will perform elementwise comparison\n",
      "  res_values = method(rvalues)\n",
      "/Users/cuifuheng/opt/anaconda3/lib/python3.7/site-packages/pandas/core/ops/array_ops.py:253: FutureWarning: elementwise comparison failed; returning scalar instead, but in the future will perform elementwise comparison\n",
      "  res_values = method(rvalues)\n",
      "/Users/cuifuheng/opt/anaconda3/lib/python3.7/site-packages/pandas/core/ops/array_ops.py:253: FutureWarning: elementwise comparison failed; returning scalar instead, but in the future will perform elementwise comparison\n",
      "  res_values = method(rvalues)\n",
      "/Users/cuifuheng/opt/anaconda3/lib/python3.7/site-packages/pandas/core/ops/array_ops.py:253: FutureWarning: elementwise comparison failed; returning scalar instead, but in the future will perform elementwise comparison\n",
      "  res_values = method(rvalues)\n",
      "/Users/cuifuheng/opt/anaconda3/lib/python3.7/site-packages/pandas/core/ops/array_ops.py:253: FutureWarning: elementwise comparison failed; returning scalar instead, but in the future will perform elementwise comparison\n",
      "  res_values = method(rvalues)\n",
      "/Users/cuifuheng/opt/anaconda3/lib/python3.7/site-packages/pandas/core/ops/array_ops.py:253: FutureWarning: elementwise comparison failed; returning scalar instead, but in the future will perform elementwise comparison\n",
      "  res_values = method(rvalues)\n",
      "/Users/cuifuheng/opt/anaconda3/lib/python3.7/site-packages/pandas/core/ops/array_ops.py:253: FutureWarning: elementwise comparison failed; returning scalar instead, but in the future will perform elementwise comparison\n",
      "  res_values = method(rvalues)\n",
      "/Users/cuifuheng/opt/anaconda3/lib/python3.7/site-packages/pandas/core/ops/array_ops.py:253: FutureWarning: elementwise comparison failed; returning scalar instead, but in the future will perform elementwise comparison\n",
      "  res_values = method(rvalues)\n",
      "/Users/cuifuheng/opt/anaconda3/lib/python3.7/site-packages/pandas/core/ops/array_ops.py:253: FutureWarning: elementwise comparison failed; returning scalar instead, but in the future will perform elementwise comparison\n",
      "  res_values = method(rvalues)\n",
      "/Users/cuifuheng/opt/anaconda3/lib/python3.7/site-packages/pandas/core/ops/array_ops.py:253: FutureWarning: elementwise comparison failed; returning scalar instead, but in the future will perform elementwise comparison\n",
      "  res_values = method(rvalues)\n",
      "/Users/cuifuheng/opt/anaconda3/lib/python3.7/site-packages/pandas/core/ops/array_ops.py:253: FutureWarning: elementwise comparison failed; returning scalar instead, but in the future will perform elementwise comparison\n",
      "  res_values = method(rvalues)\n",
      "/Users/cuifuheng/opt/anaconda3/lib/python3.7/site-packages/pandas/core/ops/array_ops.py:253: FutureWarning: elementwise comparison failed; returning scalar instead, but in the future will perform elementwise comparison\n",
      "  res_values = method(rvalues)\n",
      "/Users/cuifuheng/opt/anaconda3/lib/python3.7/site-packages/pandas/core/ops/array_ops.py:253: FutureWarning: elementwise comparison failed; returning scalar instead, but in the future will perform elementwise comparison\n",
      "  res_values = method(rvalues)\n",
      "/Users/cuifuheng/opt/anaconda3/lib/python3.7/site-packages/pandas/core/ops/array_ops.py:253: FutureWarning: elementwise comparison failed; returning scalar instead, but in the future will perform elementwise comparison\n",
      "  res_values = method(rvalues)\n",
      "/Users/cuifuheng/opt/anaconda3/lib/python3.7/site-packages/pandas/core/ops/array_ops.py:253: FutureWarning: elementwise comparison failed; returning scalar instead, but in the future will perform elementwise comparison\n",
      "  res_values = method(rvalues)\n",
      "/Users/cuifuheng/opt/anaconda3/lib/python3.7/site-packages/pandas/core/ops/array_ops.py:253: FutureWarning: elementwise comparison failed; returning scalar instead, but in the future will perform elementwise comparison\n",
      "  res_values = method(rvalues)\n",
      "/Users/cuifuheng/opt/anaconda3/lib/python3.7/site-packages/pandas/core/ops/array_ops.py:253: FutureWarning: elementwise comparison failed; returning scalar instead, but in the future will perform elementwise comparison\n",
      "  res_values = method(rvalues)\n",
      "/Users/cuifuheng/opt/anaconda3/lib/python3.7/site-packages/pandas/core/ops/array_ops.py:253: FutureWarning: elementwise comparison failed; returning scalar instead, but in the future will perform elementwise comparison\n",
      "  res_values = method(rvalues)\n",
      "/Users/cuifuheng/opt/anaconda3/lib/python3.7/site-packages/pandas/core/ops/array_ops.py:253: FutureWarning: elementwise comparison failed; returning scalar instead, but in the future will perform elementwise comparison\n",
      "  res_values = method(rvalues)\n",
      "/Users/cuifuheng/opt/anaconda3/lib/python3.7/site-packages/pandas/core/ops/array_ops.py:253: FutureWarning: elementwise comparison failed; returning scalar instead, but in the future will perform elementwise comparison\n",
      "  res_values = method(rvalues)\n",
      "/Users/cuifuheng/opt/anaconda3/lib/python3.7/site-packages/pandas/core/ops/array_ops.py:253: FutureWarning: elementwise comparison failed; returning scalar instead, but in the future will perform elementwise comparison\n",
      "  res_values = method(rvalues)\n",
      "/Users/cuifuheng/opt/anaconda3/lib/python3.7/site-packages/pandas/core/ops/array_ops.py:253: FutureWarning: elementwise comparison failed; returning scalar instead, but in the future will perform elementwise comparison\n",
      "  res_values = method(rvalues)\n",
      "/Users/cuifuheng/opt/anaconda3/lib/python3.7/site-packages/pandas/core/ops/array_ops.py:253: FutureWarning: elementwise comparison failed; returning scalar instead, but in the future will perform elementwise comparison\n",
      "  res_values = method(rvalues)\n",
      "/Users/cuifuheng/opt/anaconda3/lib/python3.7/site-packages/pandas/core/ops/array_ops.py:253: FutureWarning: elementwise comparison failed; returning scalar instead, but in the future will perform elementwise comparison\n",
      "  res_values = method(rvalues)\n",
      "/Users/cuifuheng/opt/anaconda3/lib/python3.7/site-packages/pandas/core/ops/array_ops.py:253: FutureWarning: elementwise comparison failed; returning scalar instead, but in the future will perform elementwise comparison\n",
      "  res_values = method(rvalues)\n"
     ]
    }
   ],
   "source": [
    "import numpy as np\n",
    "import pandas as pd\n",
    "from scipy.io import arff\n",
    "import random\n",
    "import pickle\n",
    "from sklearn.model_selection import train_test_split\n",
    "\n",
    "def adult_load(seed):\n",
    "    np.random.seed(seed)\n",
    "\n",
    "    #import\n",
    "    ad_train = pd.read_csv('./data/adult.data',header = None)\n",
    "    #import pdb\n",
    "    #pdb.set_trace()\n",
    "    ad_test = pd.read_csv('./data/adult.test', header = None)\n",
    "\n",
    "    #convert missing data to Nans\n",
    "    ad_train[ad_train == ' ?']= np.nan\n",
    "    ad_test[ad_test == ' ?']= np.nan\n",
    "\n",
    "    #drop missing categorical data\n",
    "    ad_train.dropna(axis = 0,inplace = True)\n",
    "    ad_test.dropna(axis = 0,inplace = True)\n",
    "\n",
    "    #separate covariates from classes\n",
    "    N_train = np.shape(ad_train)[0]\n",
    "    y_train = np.zeros(N_train)\n",
    "    y_train[ad_train.iloc[:,14] == ' >50K']=1\n",
    "    x_train = ad_train.iloc[:,0:14]\n",
    "\n",
    "    N_test = np.shape(ad_test)[0]\n",
    "    y_test = np.zeros(N_test)\n",
    "    y_test[ad_test.iloc[:,14] == ' >50K.']=1\n",
    "    x_test = ad_test.iloc[:,0:14]\n",
    "\n",
    "    #setup dummy\n",
    "    x_train =pd.get_dummies(x_train,drop_first = True,columns = [1,3,5,6,7,8,9,13])\n",
    "    x_test = pd.get_dummies(x_test,drop_first = True,columns = [1,3,5,6,7,8,9,13])    \n",
    "\n",
    "    #fix dummy difference\n",
    "    missing_cols = set( x_train.columns ) - set( x_test.columns)\n",
    "    for c in missing_cols:\n",
    "        x_test[c] = 0\n",
    "    x_test = x_test[x_train.columns]\n",
    "\n",
    "    D = np.shape(x_train)[1]\n",
    "    colnames = list(x_train.columns.values)\n",
    "\n",
    "    #concatenate and resplit\n",
    "    x = np.concatenate((x_train,x_test),axis = 0)\n",
    "    y = np.concatenate((y_train,y_test))\n",
    "    x_train,x_test, y_train,y_test = train_test_split(x,y,test_size = 0.2, stratify = y)\n",
    "    x_train = pd.DataFrame(x_train,columns = colnames)\n",
    "    x_test = pd.DataFrame(x_test, columns = colnames)\n",
    "    y_train = pd.DataFrame(y_train)\n",
    "    y_test = pd.DataFrame(y_test)\n",
    "\n",
    "    N_train = np.shape(x_train)[0]\n",
    "    N_test = np.shape(x_test)[0]\n",
    "\n",
    "    #normalize by mean and std for non dummy variables\n",
    "    mean_train = x_train.mean(axis = 0)\n",
    "    std_train = x_train.std(axis = 0)\n",
    "    x_train[[0,2,4,10,11,12]] -= mean_train\n",
    "    x_train[[0,2,4,10,11,12]] /= std_train\n",
    "\n",
    "    mean_test = x_test[[0,2,4,10,11,12]].mean(axis = 0)\n",
    "    std_test = x_test[[0,2,4,10,11,12]].std(axis = 0)\n",
    "    x_test[[0,2,4,10,11,12]] -= mean_test\n",
    "    x_test[[0,2,4,10,11,12]] /= std_test\n",
    "\n",
    "    #convert binarys to uint8 to save space\n",
    "    y_train = y_train.astype('uint8')    \n",
    "    y_test = y_test.astype('uint8')\n",
    "\n",
    "    colnames2 = set(colnames) - set([0,2,4,10,11,12])\n",
    "    x_train[list(colnames2)] = x_train[list(colnames2)].astype('uint8') \n",
    "    x_test[list(colnames2)] = x_test[list(colnames2)].astype('uint8') \n",
    "\n",
    "    #Put into dictionary and save\n",
    "    ad_data_train= {'y': y_train, 'x': x_train, 'N':N_train,'D':D}\n",
    "    ad_data_test= {'y': y_test, 'x': x_test, 'N':N_test,'D':D}\n",
    "\n",
    "    with open('./data/ad_train_seed{}'.format(seed), 'wb') as handle:\n",
    "        pickle.dump(ad_data_train, handle, protocol=pickle.HIGHEST_PROTOCOL)\n",
    "\n",
    "    with open('./data/ad_test_seed{}'.format(seed), 'wb') as handle:\n",
    "        pickle.dump(ad_data_test, handle, protocol=pickle.HIGHEST_PROTOCOL)\n",
    "\n",
    "\n",
    "\n",
    "for i in range(30):\n",
    "    adult_load(100+i)\n",
    "  "
   ]
  },
  {
   "cell_type": "code",
   "execution_count": 4,
   "metadata": {},
   "outputs": [
    {
     "name": "stderr",
     "output_type": "stream",
     "text": [
      "\n",
      "  0%|          | 0/12 [00:00<?, ?it/s]\u001b[A\n",
      "100%|██████████| 12/12 [00:00<00:00, 49.85it/s]\u001b[A\n",
      "\n",
      "100%|██████████| 12/12 [00:00<00:00, 3262.78it/s]"
     ]
    },
    {
     "name": "stdout",
     "output_type": "stream",
     "text": [
      "Time elapsed = 44.20330095291138\n"
     ]
    },
    {
     "name": "stderr",
     "output_type": "stream",
     "text": [
      "\n",
      "\n",
      "100%|██████████| 12/12 [00:00<00:00, 3557.51it/s]"
     ]
    },
    {
     "name": "stdout",
     "output_type": "stream",
     "text": [
      "Time elapsed = 46.408413887023926\n"
     ]
    },
    {
     "name": "stderr",
     "output_type": "stream",
     "text": [
      "\n"
     ]
    },
    {
     "name": "stdout",
     "output_type": "stream",
     "text": [
      "Time elapsed = 44.87112808227539\n"
     ]
    }
   ],
   "source": [
    "\"\"\"\n",
    "main script for running NPL\n",
    "\n",
    "\"\"\"\n",
    "\n",
    "import numpy as np\n",
    "import scipy as sp\n",
    "import pandas as pd\n",
    "import matplotlib.pyplot as plt\n",
    "import copy\n",
    "import time\n",
    "from npl import bootstrap_logreg as bbl\n",
    "import pickle\n",
    "\n",
    "n_iter=1\n",
    "\n",
    "def load_data(seed):\n",
    "    #load adult\n",
    "    if True:\n",
    "        with open('./data/ad_train_seed{}'.format(seed), 'rb') as handle:\n",
    "            ad_train = pickle.load(handle)\n",
    "\n",
    "        #Move into vectors\n",
    "        y = np.uint8(ad_train['y'])[:,0]\n",
    "        x = ad_train['x'].values\n",
    "        D_data = ad_train['D']\n",
    "        N_data = ad_train['N']\n",
    "  \n",
    "\n",
    "        #prior and loss settings from paper\n",
    "        alph_conc = 0 \n",
    "        gamma = 1/N_data\n",
    "\n",
    "\n",
    "    return y,x,alph_conc,gamma,N_data,D_data\n",
    "\n",
    "\n",
    "\n",
    "def main(B_postsamples):\n",
    "    #same parameters between datasets\n",
    "    T_trunc = 100\n",
    "    a=1\n",
    "    b = 1 #rate of gamma hyperprior\n",
    "    for i in range(n_iter):\n",
    "\n",
    "        seed = 100+i\n",
    "        np.random.seed(seed)\n",
    "        y,x,alph_conc,gamma,N_data,D_data = load_data(seed)\n",
    "\n",
    "        start= time.time()\n",
    "        #carry out posterior bootstrap\n",
    "        beta_bb, ll_b = bbl.bootstrap_logreg(B_postsamples,alph_conc,T_trunc,y,x,N_data,D_data,a,b,gamma)\n",
    "        end = time.time()\n",
    "        print ('Time elapsed = {}'.format(end - start))\n",
    "\n",
    "        #convert to dataframe and save\n",
    "        dict_bb = {'beta': beta_bb, 'll_b': ll_b, 'time': end-start}\n",
    "        par_bb = pd.Series(data = dict_bb)\n",
    "\n",
    "        \n",
    "        if True:\n",
    "            par_bb.to_pickle('./parameters/par_bb_logreg_c{}_a{}_b{}_gN_ad_B{}_seed{}'.format(alph_conc,a,b,B_postsamples,seed))\n",
    "\n",
    "        \n",
    "\n",
    "if __name__=='__main__':\n",
    "    main(200)\n",
    "\n",
    "\n",
    "\n",
    "\n"
   ]
  },
  {
   "cell_type": "code",
   "execution_count": null,
   "metadata": {},
   "outputs": [],
   "source": []
  },
  {
   "cell_type": "code",
   "execution_count": null,
   "metadata": {},
   "outputs": [],
   "source": []
  }
 ],
 "metadata": {
  "kernelspec": {
   "display_name": "Python 3",
   "language": "python",
   "name": "python3"
  },
  "language_info": {
   "codemirror_mode": {
    "name": "ipython",
    "version": 3
   },
   "file_extension": ".py",
   "mimetype": "text/x-python",
   "name": "python",
   "nbconvert_exporter": "python",
   "pygments_lexer": "ipython3",
   "version": "3.7.6"
  }
 },
 "nbformat": 4,
 "nbformat_minor": 4
}
